{
 "cells": [
  {
   "cell_type": "markdown",
   "source": [
    "## Read the footnotes from tex file\n",
    "### copy all of your latex source (chapters) inot a single file named latexsource.tex\n"
   ],
   "metadata": {
    "collapsed": false
   },
   "id": "ebe0074426a0a089"
  },
  {
   "cell_type": "code",
   "execution_count": 1,
   "id": "initial_id",
   "metadata": {
    "collapsed": true,
    "ExecuteTime": {
     "end_time": "2024-04-03T13:09:25.522008859Z",
     "start_time": "2024-04-03T13:09:25.508934173Z"
    }
   },
   "outputs": [
    {
     "name": "stdout",
     "output_type": "stream",
     "text": [
      "Footnotes extracted and saved to footnotes.csv\n"
     ]
    }
   ],
   "source": [
    "import re\n",
    "import csv\n",
    "\n",
    "\n",
    "with open('latexsource.tex', 'r', encoding='utf-8') as thesis_file:\n",
    "    thesis_content = thesis_file.read()\n",
    "\n",
    "\n",
    "footnote_pattern = r'\\\\LTRfootnote\\{([^}]+)\\}'\n",
    "footnotes = re.findall(footnote_pattern, thesis_content)\n",
    "\n",
    "csv_filename = 'footnotes.csv'\n",
    "with open(csv_filename, 'w', encoding='utf-8') as csv_file:\n",
    "    writer = csv.writer(csv_file)\n",
    "    for footnote in footnotes:\n",
    "        writer.writerow([footnote,\"\"])\n",
    "\n",
    "print(f\"Footnotes extracted and saved to {csv_filename}\")\n"
   ]
  },
  {
   "cell_type": "markdown",
   "source": [
    "## Edit the generated csv. put the persian translation in the second column\n",
    "### after cleaning up unwanted footnotes in the dictionary and adding the translations\n",
    "### run the cell below to sort and create two dictionaries persian to english and english to persian"
   ],
   "metadata": {
    "collapsed": false
   },
   "id": "eda9f284ba31d1fe"
  },
  {
   "cell_type": "code",
   "execution_count": 2,
   "outputs": [
    {
     "name": "stdout",
     "output_type": "stream",
     "text": [
      "persian to english saved to _p2e.csv\n",
      "english to persian saved to _e2p.csv\n"
     ]
    }
   ],
   "source": [
    "import csv\n",
    "\n",
    "\n",
    "input_filename = 'footnotes.csv'\n",
    "p2e = '_p2e.csv'\n",
    "e2p ='_e2p.csv'\n",
    "\n",
    "with open(input_filename, 'r', newline='') as csvfile:\n",
    "    reader = csv.reader(csvfile)\n",
    "    data = list(reader)\n",
    "\n",
    "p2e_sorted = sorted(data, key=lambda row: row[1])\n",
    "e2p_sorted = sorted(data, key=lambda row: row[0])\n",
    "\n",
    "with open(p2e, 'w', newline='') as csvfile:\n",
    "    writer = csv.writer(csvfile)\n",
    "    writer.writerows(p2e_sorted)\n",
    "with open(e2p, 'w', newline='') as csvfile:\n",
    "    writer = csv.writer(csvfile)\n",
    "    writer.writerows(e2p_sorted)\n",
    "print(f\"persian to english saved to {p2e}\")\n",
    "print(f\"english to persian saved to {e2p}\")\n"
   ],
   "metadata": {
    "collapsed": false,
    "ExecuteTime": {
     "end_time": "2024-04-03T13:43:54.623564044Z",
     "start_time": "2024-04-03T13:43:54.619118811Z"
    }
   },
   "id": "50cc832f63749907"
  },
  {
   "cell_type": "markdown",
   "source": [
    "## Generating the Persian to English dictionary tex file"
   ],
   "metadata": {
    "collapsed": false
   },
   "id": "1a62e41fa873ec27"
  },
  {
   "cell_type": "code",
   "execution_count": 3,
   "outputs": [
    {
     "name": "stdout",
     "output_type": "stream",
     "text": [
      "['bidirectional-encoder', ' رمزگذار دوسویه']\n",
      "['pre-trained', ' قبل آموزش داده\\u200c شده']\n",
      "['Peripheral context', ' محتوای محیطی']\n",
      "['encoder only transformer models', ' مدل ترانسفورمر فقط رمزگذار']\n",
      "['learning rate', ' نرخ یادگیری']\n",
      "['testing', 'آزمون']\n",
      "['training', 'آموزش']\n",
      "['part of speech (POS)', 'اجزای کلام']\n",
      "['integration of the spatial pyramid', 'ادغام هرم فضایی']\n",
      "['train batch size', 'اندازه دسته آموزشی']\n",
      "['effective batch size', 'اندازه دسته\\u200cی آموزشی موثر']\n",
      "['epochs', 'ایپاک']\n",
      "['contextualized representations', 'بازنمایی\\u200cهای متنی']\n",
      "['BERT', 'برت']\n",
      "['one-hot vector', 'برداری که یکی یک و مابقی صفر است']\n",
      "['context vectors', 'بردار\\u200cهای زمینه']\n",
      "['part of speech tagging', 'برچسب\\u200cزدن اجزای کلام']\n",
      "['computer vision', 'بینایی کامپیتر']\n",
      "['sentiment analysis', 'تجزیه و تحلیل احساسات']\n",
      "['dependency parser', 'تجزیه وابستگی']\n",
      "['Named Entity Recognition(NER)', 'تشخیص موجودیت\\u200cهای نامدار']\n",
      "['word segmentation', 'تقسیم\\u200cبندی کلمات']\n",
      "['fine-tune', 'تنظیم دقیق']\n",
      "['token', 'توکن']\n",
      "['tokenizer', 'توکنیزه\\u200cساز']\n",
      "['tokenization', 'توکنیزه\\u200cسازی']\n",
      "['byte-pair encoding', 'جنگاشتگر سطح بایت']\n",
      "['human annotations', 'حاشیه\\u200cنویسی انسانی']\n",
      "['self supervised', 'خود نظارتی']\n",
      "['validation', 'راستی\\u200cآزمایی']\n",
      "['positional encoding', 'رمزگذاری موقعیتی']\n",
      "['contextual relationships', 'روابط زمینه\\u200cای']\n",
      "['contextual relationships', 'روابط متنی']\n",
      "['RoBERTa', 'روبرتا']\n",
      "['Rule-based Methods', 'روش\\u200cهای قانون محور']\n",
      "['Dictionary-based Methods', 'روش\\u200cهای لغت\\u200cنامه محور']\n",
      "['Learning Methods', 'روش\\u200cهای یادگیری محور']\n",
      "['contextualized', 'زمینه\\u200cسازی شده']\n",
      "['text classification', 'طبقه بندی متن']\n",
      "['sequence classification', 'طبقه\\u200cبندی توالی']\n",
      "['token classification', 'طبقه\\u200cبندی توکن']\n",
      "['Computer Science', 'علوم کامپیوتر']\n",
      "['Conditional Random Fields', 'فیلدهای تصادفی شرطی']\n",
      "['embedding layer', 'لایه نگاشتگر']\n",
      "['layer aware', 'لایه\\u200cآگاه']\n",
      "['Dictionary', 'لغت\\u200cنامه']\n",
      "['lemmatization', 'لماتایز\\u200cسازی']\n",
      "['logit', 'لوجیت']\n",
      "['Masked Language Modeling', 'مدل\\u200cسازی زبان ماسک\\u200cدار']\n",
      "['Large Language Models', 'مدل\\u200cهای زبانی بزرگ']\n",
      "['spatio-temporal', 'مکانی-زمانی']\n",
      "['multi-head attention', 'مکانیزم توجه چند سر موازی']\n",
      "['mini batch', 'مینی\\u200cبچ، دسته آموزشی کوچک']\n",
      "['normalization', 'نرمال\\u200cسازی']\n",
      "['identifier(id)', 'نشانه']\n",
      "['embedding', 'نگاشتگری']\n",
      "['word embedding', 'نگاشت\\u200c کلمه']\n",
      "['Generative-AI', 'هوش مصنوعی مولد']\n",
      "['down stream task', 'وظیفه پایین دستی']\n",
      "['Editor', 'ویراستار']\n",
      "['un-embedding layer', 'پاد نگاشتگر']\n",
      "['question answering', 'پاسخ به سوال']\n",
      "['Natural Language Processing', 'پردازش زبان طبیعی']\n",
      "['context window', 'پنجره زمینه']\n",
      "['padding', 'پوشال\\u200cگذاری']\n",
      "['Next Sentence Prediction', 'پیش\\u200cبینی جمله بعدی']\n",
      "['N-gram', 'چندگرام']\n",
      "['CharBERT', 'کر برت']\n",
      "['key-value', 'کلید-مقدار']\n",
      "['gradient accumulation', 'گرادیان تجمعی']\n",
      "['Unicode', 'یونی\\u200cکد']\n"
     ]
    }
   ],
   "source": [
    "header='''\n",
    "\\\\addcontentsline{toc}{section}{واژه‌نامه فارسی به انگلیسی }\n",
    "\n",
    "\\\\begin{center}\n",
    "\\\\vspace{1.5cm}\n",
    "\\\\Huge{واژه‌نامه فارسی به انگلیسی}\n",
    "\\\\vspace{1.5cm}\n",
    "\\\\end{center}\n",
    "\\\\begin{center}\n",
    "الف\n",
    "\\\\end{center}\n",
    "\n",
    "'''\n",
    "head_char=\"ا\"\n",
    "fe_dir=\"FE.tex\"\n",
    "with open(fe_dir,\"w+\") as fe:\n",
    "    fe.write(header)\n",
    "    for entry in p2e_sorted:\n",
    "        print(entry)\n",
    "        if entry[1][0]!= head_char:\n",
    "            head_char = entry[1][0]\n",
    "            sep_text=\"\\\\begin{center}\\n\"+ head_char +\"\\n\\\\end{center}\\n\"\n",
    "            fe.write(sep_text)\n",
    "        entry_text=entry[1] + \"\\t \\\\dotfill \\t \\\\lr{\"+entry[0]+\"} \\\\\\\\ \\n\"\n",
    "        fe.write(entry_text)\n",
    "    \n",
    "    "
   ],
   "metadata": {
    "collapsed": false,
    "ExecuteTime": {
     "end_time": "2024-04-03T13:43:59.458201144Z",
     "start_time": "2024-04-03T13:43:59.411125853Z"
    }
   },
   "id": "2401d1b6cb1add52"
  },
  {
   "cell_type": "markdown",
   "source": [
    "## Generating the English to Persian dictionary tex file"
   ],
   "metadata": {
    "collapsed": false
   },
   "id": "a0d77656365d078c"
  },
  {
   "cell_type": "code",
   "execution_count": 4,
   "outputs": [
    {
     "name": "stdout",
     "output_type": "stream",
     "text": [
      "['BERT', 'برت']\n",
      "['CharBERT', 'کر برت']\n",
      "['Computer Science', 'علوم کامپیوتر']\n",
      "['Conditional Random Fields', 'فیلدهای تصادفی شرطی']\n",
      "['Dictionary', 'لغت\\u200cنامه']\n",
      "['Dictionary-based Methods', 'روش\\u200cهای لغت\\u200cنامه محور']\n",
      "['Editor', 'ویراستار']\n",
      "['Generative-AI', 'هوش مصنوعی مولد']\n",
      "['Large Language Models', 'مدل\\u200cهای زبانی بزرگ']\n",
      "['Learning Methods', 'روش\\u200cهای یادگیری محور']\n",
      "['Masked Language Modeling', 'مدل\\u200cسازی زبان ماسک\\u200cدار']\n",
      "['N-gram', 'چندگرام']\n",
      "['Named Entity Recognition(NER)', 'تشخیص موجودیت\\u200cهای نامدار']\n",
      "['Natural Language Processing', 'پردازش زبان طبیعی']\n",
      "['Next Sentence Prediction', 'پیش\\u200cبینی جمله بعدی']\n",
      "['Peripheral context', ' محتوای محیطی']\n",
      "['RoBERTa', 'روبرتا']\n",
      "['Rule-based Methods', 'روش\\u200cهای قانون محور']\n",
      "['Unicode', 'یونی\\u200cکد']\n",
      "['bidirectional-encoder', ' رمزگذار دوسویه']\n",
      "['byte-pair encoding', 'جنگاشتگر سطح بایت']\n",
      "['computer vision', 'بینایی کامپیتر']\n",
      "['context vectors', 'بردار\\u200cهای زمینه']\n",
      "['context window', 'پنجره زمینه']\n",
      "['contextual relationships', 'روابط متنی']\n",
      "['contextual relationships', 'روابط زمینه\\u200cای']\n",
      "['contextualized', 'زمینه\\u200cسازی شده']\n",
      "['contextualized representations', 'بازنمایی\\u200cهای متنی']\n",
      "['dependency parser', 'تجزیه وابستگی']\n",
      "['down stream task', 'وظیفه پایین دستی']\n",
      "['effective batch size', 'اندازه دسته\\u200cی آموزشی موثر']\n",
      "['embedding', 'نگاشتگری']\n",
      "['embedding layer', 'لایه نگاشتگر']\n",
      "['encoder only transformer models', ' مدل ترانسفورمر فقط رمزگذار']\n",
      "['epochs', 'ایپاک']\n",
      "['fine-tune', 'تنظیم دقیق']\n",
      "['gradient accumulation', 'گرادیان تجمعی']\n",
      "['human annotations', 'حاشیه\\u200cنویسی انسانی']\n",
      "['identifier(id)', 'نشانه']\n",
      "['integration of the spatial pyramid', 'ادغام هرم فضایی']\n",
      "['key-value', 'کلید-مقدار']\n",
      "['layer aware', 'لایه\\u200cآگاه']\n",
      "['learning rate', ' نرخ یادگیری']\n",
      "['lemmatization', 'لماتایز\\u200cسازی']\n",
      "['logit', 'لوجیت']\n",
      "['mini batch', 'مینی\\u200cبچ، دسته آموزشی کوچک']\n",
      "['multi-head attention', 'مکانیزم توجه چند سر موازی']\n",
      "['normalization', 'نرمال\\u200cسازی']\n",
      "['one-hot vector', 'برداری که یکی یک و مابقی صفر است']\n",
      "['padding', 'پوشال\\u200cگذاری']\n",
      "['part of speech (POS)', 'اجزای کلام']\n",
      "['part of speech tagging', 'برچسب\\u200cزدن اجزای کلام']\n",
      "['positional encoding', 'رمزگذاری موقعیتی']\n",
      "['pre-trained', ' قبل آموزش داده\\u200c شده']\n",
      "['question answering', 'پاسخ به سوال']\n",
      "['self supervised', 'خود نظارتی']\n",
      "['sentiment analysis', 'تجزیه و تحلیل احساسات']\n",
      "['sequence classification', 'طبقه\\u200cبندی توالی']\n",
      "['spatio-temporal', 'مکانی-زمانی']\n",
      "['testing', 'آزمون']\n",
      "['text classification', 'طبقه بندی متن']\n",
      "['token', 'توکن']\n",
      "['token classification', 'طبقه\\u200cبندی توکن']\n",
      "['tokenization', 'توکنیزه\\u200cسازی']\n",
      "['tokenizer', 'توکنیزه\\u200cساز']\n",
      "['train batch size', 'اندازه دسته آموزشی']\n",
      "['training', 'آموزش']\n",
      "['un-embedding layer', 'پاد نگاشتگر']\n",
      "['validation', 'راستی\\u200cآزمایی']\n",
      "['word embedding', 'نگاشت\\u200c کلمه']\n",
      "['word segmentation', 'تقسیم\\u200cبندی کلمات']\n"
     ]
    }
   ],
   "source": [
    "header='''\n",
    "\\\\addcontentsline{toc}{section}{واژه‌نامه انگلیسی به فارسی }\n",
    "\n",
    "\\\\begin{center}\n",
    "\\\\vspace{1.5cm}\n",
    "\\\\Huge{واژه‌نامه انگلیسی به فارسی}\n",
    "\\\\vspace{1.5cm}\n",
    "\\\\end{center}\n",
    "\\\\begin{center}\n",
    "A\n",
    "\\end{center}\n",
    "'''\n",
    "head_char=\"A\"\n",
    "fe_dir=\"EF.tex\"\n",
    "with open(fe_dir,\"w+\") as fe:\n",
    "    fe.write(header)\n",
    "    for entry in e2p_sorted:\n",
    "        print(entry)\n",
    "        if entry[0][0]!= head_char.upper():\n",
    "            head_char = entry[0][0].upper()\n",
    "            sep_text=\"\\\\begin{center}\\n\"+ head_char +\"\\n\\\\end{center}\\n\"\n",
    "            fe.write(sep_text)\n",
    "        entry_text=\"\\\\lr{\"+entry[0] + \"}\\t \\\\dotfill \\t\"+entry[1]+\" \\\\\\\\ \\n\"\n",
    "        fe.write(entry_text)\n",
    "    \n",
    "    "
   ],
   "metadata": {
    "collapsed": false,
    "ExecuteTime": {
     "end_time": "2024-04-03T13:44:02.090937800Z",
     "start_time": "2024-04-03T13:44:02.085812894Z"
    }
   },
   "id": "a5cdd111c48e84b4"
  },
  {
   "cell_type": "code",
   "execution_count": null,
   "outputs": [],
   "source": [],
   "metadata": {
    "collapsed": false,
    "ExecuteTime": {
     "end_time": "2024-04-03T10:18:12.053203256Z",
     "start_time": "2024-04-03T10:18:12.051868777Z"
    }
   },
   "id": "7a50e6d274594362"
  }
 ],
 "metadata": {
  "kernelspec": {
   "display_name": "Python 3",
   "language": "python",
   "name": "python3"
  },
  "language_info": {
   "codemirror_mode": {
    "name": "ipython",
    "version": 2
   },
   "file_extension": ".py",
   "mimetype": "text/x-python",
   "name": "python",
   "nbconvert_exporter": "python",
   "pygments_lexer": "ipython2",
   "version": "2.7.6"
  }
 },
 "nbformat": 4,
 "nbformat_minor": 5
}
